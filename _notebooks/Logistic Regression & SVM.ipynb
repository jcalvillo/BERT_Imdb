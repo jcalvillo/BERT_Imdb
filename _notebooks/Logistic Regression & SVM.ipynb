{
 "cells": [
  {
   "cell_type": "code",
   "execution_count": 44,
   "metadata": {},
   "outputs": [],
   "source": [
    "import json\n",
    "import os\n",
    "import random\n",
    "\n",
    "import numpy as np\n",
    "import pickle\n",
    "\n",
    "from sklearn.svm import LinearSVC\n",
    "from sklearn.linear_model import LogisticRegression"
   ]
  },
  {
   "cell_type": "markdown",
   "metadata": {},
   "source": [
    "## Get Training Data"
   ]
  },
  {
   "cell_type": "code",
   "execution_count": 2,
   "metadata": {},
   "outputs": [],
   "source": [
    "def get_inputs(data_dir):\n",
    "    data_files = os.listdir(data_dir)\n",
    "    \n",
    "    # open pre-embedded data\n",
    "    feature_list = []\n",
    "    label_list = []\n",
    "    for data_file in data_files:\n",
    "        with open(os.path.join(data_dir, data_file), 'rb') as f:\n",
    "            features, labels = pickle.load(f)\n",
    "            feature_list.append(features)\n",
    "            label_list.append(labels)\n",
    "    features = np.concatenate(feature_list)\n",
    "    labels = [label for labels in label_list for label in labels]\n",
    "    \n",
    "    # split into train and dev set\n",
    "    train_features = features[0:int(0.8*len(features))]\n",
    "    train_labels = labels[0:int(0.8*len(features))]\n",
    "    dev_features = features[int(0.8*len(features)):len(features)]\n",
    "    dev_labels = labels[int(0.8*len(features)):len(features)]\n",
    "    \n",
    "    train_labels = np.array(train_labels).astype('int32')\n",
    "    dev_labels = np.array(dev_labels).astype('int32')\n",
    "    \n",
    "    print('{} train data points'.format(len(train_features)))\n",
    "    print('{} dev data points'.format(len(dev_features)))\n",
    "    return (train_features, train_labels, dev_features, dev_labels)"
   ]
  },
  {
   "cell_type": "code",
   "execution_count": 56,
   "metadata": {},
   "outputs": [
    {
     "name": "stdout",
     "output_type": "stream",
     "text": [
      "20000 train data points\n",
      "5000 dev data points\n"
     ]
    }
   ],
   "source": [
    "bert_model = 'train_uncased_large_max200'\n",
    "train_features, train_labels, dev_features, dev_labels = get_inputs('/home/eugenet/final_project/cached_data/{}/'.format(bert_model))"
   ]
  },
  {
   "cell_type": "markdown",
   "metadata": {},
   "source": [
    "# Classify"
   ]
  },
  {
   "cell_type": "markdown",
   "metadata": {},
   "source": [
    "## Linear SVM"
   ]
  },
  {
   "cell_type": "code",
   "execution_count": 57,
   "metadata": {},
   "outputs": [
    {
     "name": "stdout",
     "output_type": "stream",
     "text": [
      "0.8816\n",
      "CPU times: user 1min 51s, sys: 484 ms, total: 1min 51s\n",
      "Wall time: 1min 51s\n"
     ]
    },
    {
     "name": "stderr",
     "output_type": "stream",
     "text": [
      "/home/eugenet/miniconda3/envs/bert/lib/python3.7/site-packages/sklearn/svm/base.py:931: ConvergenceWarning: Liblinear failed to converge, increase the number of iterations.\n",
      "  \"the number of iterations.\", ConvergenceWarning)\n"
     ]
    }
   ],
   "source": [
    "%%time\n",
    "svc = LinearSVC(random_state=42, max_iter=2000)\n",
    "svc.fit(train_features, train_labels)\n",
    "print(svc.score(dev_features, dev_labels))"
   ]
  },
  {
   "cell_type": "markdown",
   "metadata": {},
   "source": [
    "## Logistic Regression"
   ]
  },
  {
   "cell_type": "code",
   "execution_count": 58,
   "metadata": {},
   "outputs": [
    {
     "name": "stderr",
     "output_type": "stream",
     "text": [
      "/home/eugenet/miniconda3/envs/bert/lib/python3.7/site-packages/sklearn/linear_model/logistic.py:433: FutureWarning: Default solver will be changed to 'lbfgs' in 0.22. Specify a solver to silence this warning.\n",
      "  FutureWarning)\n"
     ]
    },
    {
     "name": "stdout",
     "output_type": "stream",
     "text": [
      "0.8864\n",
      "CPU times: user 19.4 s, sys: 456 ms, total: 19.8 s\n",
      "Wall time: 19.4 s\n"
     ]
    }
   ],
   "source": [
    "%%time\n",
    "lc = LogisticRegression(random_state=42)\n",
    "lc.fit(train_features, train_labels)\n",
    "print(lc.score(dev_features, dev_labels))"
   ]
  }
 ],
 "metadata": {
  "kernelspec": {
   "display_name": "Python 3",
   "language": "python",
   "name": "python3"
  },
  "language_info": {
   "codemirror_mode": {
    "name": "ipython",
    "version": 3
   },
   "file_extension": ".py",
   "mimetype": "text/x-python",
   "name": "python",
   "nbconvert_exporter": "python",
   "pygments_lexer": "ipython3",
   "version": "3.7.3"
  }
 },
 "nbformat": 4,
 "nbformat_minor": 2
}
